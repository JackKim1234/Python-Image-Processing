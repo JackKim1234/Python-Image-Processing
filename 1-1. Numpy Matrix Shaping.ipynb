{
 "cells": [
  {
   "cell_type": "code",
   "execution_count": 1,
   "id": "af423bdc",
   "metadata": {},
   "outputs": [],
   "source": [
    "import numpy as np"
   ]
  },
  {
   "cell_type": "code",
   "execution_count": 2,
   "id": "79c03fde",
   "metadata": {},
   "outputs": [],
   "source": [
    "array = np.array([1,2,3])"
   ]
  },
  {
   "cell_type": "code",
   "execution_count": 3,
   "id": "d89847b8",
   "metadata": {},
   "outputs": [
    {
     "name": "stdout",
     "output_type": "stream",
     "text": [
      "3\n",
      "int32\n",
      "3\n"
     ]
    }
   ],
   "source": [
    "print(array.size)\n",
    "print(array.dtype)\n",
    "print(array[2])                          #주의! Index는 0부터 시작"
   ]
  },
  {
   "cell_type": "code",
   "execution_count": 4,
   "id": "76b8dce6",
   "metadata": {},
   "outputs": [
    {
     "name": "stdout",
     "output_type": "stream",
     "text": [
      "[0 1 2 3]\n"
     ]
    }
   ],
   "source": [
    "array1 = np.arange(4)                   # np.array(range(4))를 줄인것\n",
    "print(array1)"
   ]
  },
  {
   "cell_type": "code",
   "execution_count": 5,
   "id": "b14b899f",
   "metadata": {},
   "outputs": [
    {
     "name": "stdout",
     "output_type": "stream",
     "text": [
      "[[0. 0. 0. 0.]\n",
      " [0. 0. 0. 0.]\n",
      " [0. 0. 0. 0.]\n",
      " [0. 0. 0. 0.]]\n"
     ]
    }
   ],
   "source": [
    "array2 = np.zeros((4, 4), dtype=float) # 4 x 4 행렬인데 원소가 전부 0\n",
    "print(array2)"
   ]
  },
  {
   "cell_type": "code",
   "execution_count": 6,
   "id": "32db463d",
   "metadata": {},
   "outputs": [
    {
     "name": "stdout",
     "output_type": "stream",
     "text": [
      "[['1' '1' '1']\n",
      " ['1' '1' '1']\n",
      " ['1' '1' '1']]\n"
     ]
    }
   ],
   "source": [
    "array3 = np.ones((3, 3), dtype=str)    # 3 x 3 행렬인데 원소가 전부 '1'(문자)\n",
    "print(array3)"
   ]
  },
  {
   "cell_type": "code",
   "execution_count": 7,
   "id": "253923a3",
   "metadata": {},
   "outputs": [
    {
     "name": "stdout",
     "output_type": "stream",
     "text": [
      "[[5 3 4]\n",
      " [2 6 3]\n",
      " [5 3 9]]\n"
     ]
    }
   ],
   "source": [
    "array4 = np.random.randint(0, 10, (3, 3))   # 0부터 (10-1) 사이의 랜덤한 숫자가 원소\n",
    "print(array4)"
   ]
  },
  {
   "cell_type": "code",
   "execution_count": 8,
   "id": "bced4c1b",
   "metadata": {},
   "outputs": [
    {
     "name": "stdout",
     "output_type": "stream",
     "text": [
      "[[ 0.90007946  0.26650155 -0.33322651]\n",
      " [-1.67438887  0.56941938 -1.9114067 ]\n",
      " [ 0.71198796 -0.06842915  0.71125857]]\n"
     ]
    }
   ],
   "source": [
    "array5 = np.random.normal(0, 1, (3, 3))    # 0이 평균, 표준편차가 1인 랜덤한 숫자 원소가 표준 분포를 띄움\n",
    "print(array5)"
   ]
  },
  {
   "cell_type": "code",
   "execution_count": 9,
   "id": "7276d23e",
   "metadata": {},
   "outputs": [
    {
     "name": "stdout",
     "output_type": "stream",
     "text": [
      "(6,)\n",
      "[1 2 3 4 5 6]\n"
     ]
    }
   ],
   "source": [
    "array1 = np.array([1, 2, 3])                # 바로 위 array1 덮어씌움\n",
    "array2 = np.array([4, 5, 6])                # 바로 위 array2 덮어씌움\n",
    "array3 = np.concatenate([array1, array2])   # 열방향(좌우)으로 이어 붙이는 Concatenate\n",
    "print(array3.shape)                         \n",
    "print(array3)                               # 1 x 6 형태로 이어짐"
   ]
  },
  {
   "cell_type": "code",
   "execution_count": 10,
   "id": "7b6c399a",
   "metadata": {},
   "outputs": [
    {
     "name": "stdout",
     "output_type": "stream",
     "text": [
      "(2, 2)\n"
     ]
    }
   ],
   "source": [
    "array1 = np.array([1, 2, 3, 4])             \n",
    "array2 = array1.reshape((2, 2))             # 행렬을 2 x 2 행렬로 모양 변경\n",
    "print(array2.shape)                         # 순서대로 원소를 넣었다 \"[1,2]; [3,4]\""
   ]
  },
  {
   "cell_type": "code",
   "execution_count": 11,
   "id": "dd86d268",
   "metadata": {},
   "outputs": [
    {
     "name": "stdout",
     "output_type": "stream",
     "text": [
      "[[0 1 2 3]]\n",
      "[[0 1 2 3]\n",
      " [4 5 6 7]]\n",
      "[[0 1 2 3]\n",
      " [0 1 2 3]\n",
      " [4 5 6 7]]\n"
     ]
    }
   ],
   "source": [
    "array1 = np.arange(4).reshape(1, 4)         \n",
    "array2 = np.arange(8).reshape(2, 4)         # \"[0,1,2,3] ; [4,5,6,7]\"\n",
    "print(array1)\n",
    "print(array2)\n",
    "array3 = np.concatenate([array1, array2], axis=0)  # axis = 0은 행/열 중 행방향(상하)을 의미\n",
    "print(array3)"
   ]
  },
  {
   "cell_type": "code",
   "execution_count": 12,
   "id": "7302ab4a",
   "metadata": {},
   "outputs": [
    {
     "name": "stdout",
     "output_type": "stream",
     "text": [
      "[[0 1]\n",
      " [4 5]]\n",
      "[[2 3]\n",
      " [6 7]]\n",
      "7\n"
     ]
    }
   ],
   "source": [
    "array = np.arange(8).reshape(2, 4)\n",
    "left, right = np.split(array, [2], axis=1)         # index 2를 기준(index 0,1 // index 2,3)로 열 쪼개기\n",
    "print(left)\n",
    "print(right)\n",
    "print(right[1][1])"
   ]
  },
  {
   "cell_type": "code",
   "execution_count": null,
   "id": "5b93706c",
   "metadata": {},
   "outputs": [],
   "source": []
  }
 ],
 "metadata": {
  "kernelspec": {
   "display_name": "Python 3",
   "language": "python",
   "name": "python3"
  },
  "language_info": {
   "codemirror_mode": {
    "name": "ipython",
    "version": 3
   },
   "file_extension": ".py",
   "mimetype": "text/x-python",
   "name": "python",
   "nbconvert_exporter": "python",
   "pygments_lexer": "ipython3",
   "version": "3.8.8"
  }
 },
 "nbformat": 4,
 "nbformat_minor": 5
}
