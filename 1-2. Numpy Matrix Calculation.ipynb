{
 "cells": [
  {
   "cell_type": "code",
   "execution_count": 1,
   "id": "ffc19793",
   "metadata": {},
   "outputs": [],
   "source": [
    "import numpy as np"
   ]
  },
  {
   "cell_type": "code",
   "execution_count": 2,
   "id": "2849b794",
   "metadata": {},
   "outputs": [
    {
     "data": {
      "text/plain": [
       "array([[5, 7],\n",
       "       [6, 7]])"
      ]
     },
     "execution_count": 2,
     "metadata": {},
     "output_type": "execute_result"
    }
   ],
   "source": [
    "array = np.random.randint(1, 10, size=4).reshape(2, 2)    # 4개의 random integer를 원소로 한 1 x 4 행렬을 만들고 2 x 2로 reshape \n",
    "array"
   ]
  },
  {
   "cell_type": "code",
   "execution_count": 3,
   "id": "2ddf6463",
   "metadata": {},
   "outputs": [
    {
     "name": "stdout",
     "output_type": "stream",
     "text": [
      "[[50 70]\n",
      " [60 70]]\n"
     ]
    }
   ],
   "source": [
    "result_array = array * 10         # 행렬에 스칼라 상수 곱하기\n",
    "print(result_array)"
   ]
  },
  {
   "cell_type": "code",
   "execution_count": 4,
   "id": "c37d2d05",
   "metadata": {},
   "outputs": [
    {
     "name": "stdout",
     "output_type": "stream",
     "text": [
      "[[0 2]\n",
      " [2 4]]\n"
     ]
    }
   ],
   "source": [
    "array1 = np.arange(4).reshape(2, 2)     # [0, 1] ; [2, 3]\n",
    "array2 = np.arange(2)                   # [0, 1]\n",
    "array3 = array1 + array2                # 행렬 크기가 안 맞으니 맞춘다 by 행 우선 고로 array2 = [0,1] ; [0,1]\n",
    "\n",
    "print(array3)"
   ]
  },
  {
   "cell_type": "code",
   "execution_count": 5,
   "id": "5010fca9",
   "metadata": {},
   "outputs": [
    {
     "name": "stdout",
     "output_type": "stream",
     "text": [
      "[[ 0  1  2  3]\n",
      " [ 5  6  7  8]\n",
      " [ 2  3  4  5]\n",
      " [ 7  8  9 10]]\n"
     ]
    }
   ],
   "source": [
    "array1 = np.arange(0, 8).reshape(2, 4)             # [0,1,2,3] ; [4,5,6,7]\n",
    "array2 = np.arange(0, 8).reshape(2, 4)             \n",
    "array3 = np.concatenate([array1, array2], axis=0)  # [0,1,2,3] ; [4,5,6,7] ; [0,1,2,3] ; [4,5,6,7]\n",
    "array4 = np.arange(0, 4).reshape(4, 1)             # [0] ; [1] ; [2] ; [3]\n",
    "\n",
    "print(array3 + array4)                            # 크기 맞출려고 array4가 [0,0,0,0];[1,1,1,1];[2,2,2,2];[3,3,3,3]"
   ]
  },
  {
   "cell_type": "code",
   "execution_count": 6,
   "id": "f4bc9dc2",
   "metadata": {},
   "outputs": [
    {
     "name": "stdout",
     "output_type": "stream",
     "text": [
      "[[ 0  1  2  3]\n",
      " [ 4  5  6  7]\n",
      " [ 8  9 10 11]\n",
      " [12 13 14 15]]\n",
      "[[ True  True  True  True]\n",
      " [ True  True  True  True]\n",
      " [ True  True False False]\n",
      " [False False False False]]\n",
      "[[100 100 100 100]\n",
      " [100 100 100 100]\n",
      " [100 100  10  11]\n",
      " [ 12  13  14  15]]\n"
     ]
    }
   ],
   "source": [
    "array1 = np.arange(16).reshape(4, 4)\n",
    "print(array1)                               # [0,1,2,3] ; [4,5,6,7] ; [8,9,10,11] ; [12,13,14,15]\n",
    "\n",
    "array2 = array1 < 10\n",
    "print(array2)                               #[T,T,T,T];[T,T,T,T];[T,T,F,F];[F,F,F,F]\n",
    "\n",
    "array1[array2] = 100                       # True 면 100을 반환(Return) 그렇지 않으면 array1 원소\n",
    "print(array1)"
   ]
  },
  {
   "cell_type": "code",
   "execution_count": 7,
   "id": "f0f3f15f",
   "metadata": {},
   "outputs": [
    {
     "name": "stdout",
     "output_type": "stream",
     "text": [
      "최대값: 15\n",
      "최소값: 0\n",
      "합계: 120\n",
      "평균값: 7.5\n"
     ]
    }
   ],
   "source": [
    "array = np.arange(16).reshape(4, 4)\n",
    "\n",
    "print(\"최대값:\", np.max(array))         # 원소의 최대값\n",
    "print(\"최소값:\", np.min(array))         # 원소의 최소값\n",
    "print(\"합계:\", np.sum(array))           # 원소들의 합\n",
    "print(\"평균값:\", np.mean(array))        # 원소들의 평균"
   ]
  },
  {
   "cell_type": "code",
   "execution_count": 8,
   "id": "8ce346be",
   "metadata": {},
   "outputs": [
    {
     "name": "stdout",
     "output_type": "stream",
     "text": [
      "합계: [24 28 32 36]\n"
     ]
    }
   ],
   "source": [
    "array = np.arange(16).reshape(4, 4)\n",
    "\n",
    "print(\"합계:\", np.sum(array, axis=0))  # 원소들을 행방향으로 합한다 (1 x 4 행렬 만듦)"
   ]
  },
  {
   "cell_type": "code",
   "execution_count": null,
   "id": "2ca004f8",
   "metadata": {},
   "outputs": [],
   "source": []
  }
 ],
 "metadata": {
  "kernelspec": {
   "display_name": "Python 3",
   "language": "python",
   "name": "python3"
  },
  "language_info": {
   "codemirror_mode": {
    "name": "ipython",
    "version": 3
   },
   "file_extension": ".py",
   "mimetype": "text/x-python",
   "name": "python",
   "nbconvert_exporter": "python",
   "pygments_lexer": "ipython3",
   "version": "3.8.8"
  }
 },
 "nbformat": 4,
 "nbformat_minor": 5
}
