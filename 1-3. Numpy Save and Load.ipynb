{
 "cells": [
  {
   "cell_type": "code",
   "execution_count": 1,
   "id": "5b598f1a",
   "metadata": {},
   "outputs": [
    {
     "name": "stdout",
     "output_type": "stream",
     "text": [
      "[0 1 2 3 4 5 6 7 8 9]\n"
     ]
    }
   ],
   "source": [
    "import numpy as np\n",
    "\n",
    "array = np.arange(0, 10)          # 객체 1개(array 1개)를 저장\n",
    "np.save('saved.npy', array)       # saved.npy로 저장된 array\n",
    "\n",
    "result = np.load('saved.npy')\n",
    "print(result)"
   ]
  },
  {
   "cell_type": "code",
   "execution_count": 2,
   "id": "94212146",
   "metadata": {},
   "outputs": [
    {
     "name": "stdout",
     "output_type": "stream",
     "text": [
      "[0 1 2 3 4 5 6 7 8 9]\n",
      "[10 11 12 13 14 15 16 17 18 19]\n"
     ]
    }
   ],
   "source": [
    "array_a = np.arange(0, 10)\n",
    "array_b = np.arange(10, 20)\n",
    "np.savez('saved.npz', array1=array_a, array2=array_b)   # savez는 여러개 객체 저장, array1에는 array_a를 array2에는 array_b를 저장한다\n",
    "\n",
    "data = np.load('saved.npz')                             # saved.npz를 불러오고\n",
    "result1 = data['array1']                                # 불러온 파일의 array1 \n",
    "result2 = data['array2']                                # 불러온 파일의 array2\n",
    "print(result1)\n",
    "print(result2)"
   ]
  },
  {
   "cell_type": "code",
   "execution_count": 3,
   "id": "3d02f10b",
   "metadata": {},
   "outputs": [
    {
     "name": "stdout",
     "output_type": "stream",
     "text": [
      "[ 1  3  5  9 10]\n",
      "[10  9  5  3  1]\n",
      "[[ 5  3  4  2  1]\n",
      " [ 8  9 10  3  5]]\n"
     ]
    }
   ],
   "source": [
    "array = np.array([5, 9, 10, 3, 1])                # 기본 옵션이 오름차순이다\n",
    "array.sort()\n",
    "print(array)\n",
    "\n",
    "array = np.array([5, 9, 10, 3, 1])                # 다음 행렬[::-1]의  ::-1의 -1부분은 step을 나타낸다(여기서는 거꾸로)\n",
    "array.sort()                                      # 즉, 내림차순이다\n",
    "print(array[::-1])\n",
    "\n",
    "\n",
    "array = np.array([[5, 9, 10, 3, 1], [8, 3, 4, 2, 5]])  # axis = 0은 행 방향이므로 두 행렬의 원소 자리의 원소 중 더 작은 값이 위에\n",
    "array.sort(axis=0)                                     # 더 큰 값이 아래 행렬에 배치된다\n",
    "print(array)"
   ]
  },
  {
   "cell_type": "code",
   "execution_count": 4,
   "id": "7c8c2040",
   "metadata": {},
   "outputs": [
    {
     "name": "stdout",
     "output_type": "stream",
     "text": [
      "[ 0.   2.5  5.   7.5 10. ]\n",
      "[[4 9 6]\n",
      " [3 3 7]]\n",
      "[0 1 2 3 4 5 6 7 8 9]\n",
      "[1 2 3]\n"
     ]
    }
   ],
   "source": [
    "array = np.linspace(0, 10, 5)                   # 0이상 10이하를 5등분 하는 linspace\n",
    "print(array)\n",
    "\n",
    "np.random.seed(7)\n",
    "print(np.random.randint(0, 10, (2, 3)))         # 결과가 고정되는 난수를 .random.seed(7)  AI에서도 random_state로 난수 고정됨\n",
    "\n",
    "array1 = np.arange(0, 10)\n",
    "array2 = array1.copy()                         # 복사\n",
    "print(array2)\n",
    "\n",
    "array = np.array([1, 1, 2, 3, 3, 3, 1])        # Unique한 데이터만 남긴다\n",
    "print(np.unique(array))"
   ]
  },
  {
   "cell_type": "code",
   "execution_count": null,
   "id": "c31961c0",
   "metadata": {},
   "outputs": [],
   "source": []
  }
 ],
 "metadata": {
  "kernelspec": {
   "display_name": "Python 3",
   "language": "python",
   "name": "python3"
  },
  "language_info": {
   "codemirror_mode": {
    "name": "ipython",
    "version": 3
   },
   "file_extension": ".py",
   "mimetype": "text/x-python",
   "name": "python",
   "nbconvert_exporter": "python",
   "pygments_lexer": "ipython3",
   "version": "3.8.8"
  }
 },
 "nbformat": 4,
 "nbformat_minor": 5
}
